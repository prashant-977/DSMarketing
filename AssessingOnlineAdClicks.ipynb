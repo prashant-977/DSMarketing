{
  "nbformat": 4,
  "nbformat_minor": 0,
  "metadata": {
    "colab": {
      "provenance": []
    },
    "kernelspec": {
      "name": "python3",
      "display_name": "Python 3"
    },
    "language_info": {
      "name": "python"
    }
  },
  "cells": [
    {
      "cell_type": "markdown",
      "source": [
        "### Problem Statement\n",
        "Raul, who recently opened a burger bistro in Helsinki, aims to attract more customers through an online advertising campaign. He plans to purchase 3,000 ads daily between 11:00 a.m. and 1:00 p.m., targeting Helsinki residents. Each ad, costing one cent, will be viewed by a single resident and will feature the text: \"Hungry? Try the Best Burger in Helsinki. Come to Raul’s.\" Raul, however, finds the default blue color of the ad text boring and believes that other colors might generate more clicks.\n",
        "\n",
        "To determine the most effective color, Raul conducts an experiment over 20 weekdays. Each day, he runs 3,000 ads, evenly distributing them among 30 different colors (100 ads per color). The ad software tracks the daily views and clicks for each color and stores this data in a table.\n",
        "\n",
        "Raul now needs help analyzing this data to identify any color that draws significantly more clicks than blue. Being skilled in making burgers but not in data analysis, Raul has turned to you for assistance. He offers free burgers for a year in exchange for your help in interpreting the results."
      ],
      "metadata": {
        "id": "XT3UYjlG85qL"
      }
    },
    {
      "cell_type": "code",
      "source": [
        "import pandas as pd\n",
        "import numpy as np\n",
        "import matplotlib.pyplot as plt\n",
        "import seaborn as sns"
      ],
      "metadata": {
        "id": "svvaabhM7BUc"
      },
      "execution_count": null,
      "outputs": []
    },
    {
      "cell_type": "markdown",
      "source": [
        "### We look at the problem with following lenses\n",
        "- Measure the centrality and dispersion of sampled data.\n",
        "- Interpret the significance of two diverging means through p-value calculation\n",
        "- Minimize mistakes associated with misleading p-value measurements.\n",
        "\n",
        "\n"
      ],
      "metadata": {
        "id": "JIq6n-388OCo"
      }
    },
    {
      "cell_type": "markdown",
      "source": [
        "## Processing the ad-click table in Pandas"
      ],
      "metadata": {
        "id": "TjGCanZrCAkf"
      }
    },
    {
      "cell_type": "markdown",
      "source": [
        "Load and manipulate data stored in tables using Python.\n",
        "\n"
      ],
      "metadata": {
        "id": "q6aMX1Q38b-8"
      }
    },
    {
      "cell_type": "code",
      "source": [
        "df = pd.read_csv('colored_ad_click_table.csv')\n",
        "num_rows, num_cols = df.shape\n",
        "print(f\"Table contains {num_rows} rows and {num_cols} columns\")"
      ],
      "metadata": {
        "id": "7PrTGvOD8dcu",
        "colab": {
          "base_uri": "https://localhost:8080/"
        },
        "outputId": "409a1758-b992-4ead-e7ea-d3995af9a19a"
      },
      "execution_count": null,
      "outputs": [
        {
          "output_type": "stream",
          "name": "stdout",
          "text": [
            "Table contains 30 rows and 41 columns\n"
          ]
        }
      ]
    },
    {
      "cell_type": "markdown",
      "source": [
        "Each row represents a click event (?)"
      ],
      "metadata": {
        "id": "WiTBK-aj7EJ1"
      }
    },
    {
      "cell_type": "code",
      "source": [
        "df.columns"
      ],
      "metadata": {
        "colab": {
          "base_uri": "https://localhost:8080/"
        },
        "id": "OuNqpLaY7M60",
        "outputId": "57860af1-6132-4a12-c8b3-fd9cc7c30e00"
      },
      "execution_count": null,
      "outputs": [
        {
          "output_type": "execute_result",
          "data": {
            "text/plain": [
              "Index(['Color', 'Click Count: Day 1', 'View Count: Day 1',\n",
              "       'Click Count: Day 2', 'View Count: Day 2', 'Click Count: Day 3',\n",
              "       'View Count: Day 3', 'Click Count: Day 4', 'View Count: Day 4',\n",
              "       'Click Count: Day 5', 'View Count: Day 5', 'Click Count: Day 6',\n",
              "       'View Count: Day 6', 'Click Count: Day 7', 'View Count: Day 7',\n",
              "       'Click Count: Day 8', 'View Count: Day 8', 'Click Count: Day 9',\n",
              "       'View Count: Day 9', 'Click Count: Day 10', 'View Count: Day 10',\n",
              "       'Click Count: Day 11', 'View Count: Day 11', 'Click Count: Day 12',\n",
              "       'View Count: Day 12', 'Click Count: Day 13', 'View Count: Day 13',\n",
              "       'Click Count: Day 14', 'View Count: Day 14', 'Click Count: Day 15',\n",
              "       'View Count: Day 15', 'Click Count: Day 16', 'View Count: Day 16',\n",
              "       'Click Count: Day 17', 'View Count: Day 17', 'Click Count: Day 18',\n",
              "       'View Count: Day 18', 'Click Count: Day 19', 'View Count: Day 19',\n",
              "       'Click Count: Day 20', 'View Count: Day 20'],\n",
              "      dtype='object')"
            ]
          },
          "metadata": {},
          "execution_count": 3
        }
      ]
    },
    {
      "cell_type": "code",
      "source": [
        "df.Color.values"
      ],
      "metadata": {
        "colab": {
          "base_uri": "https://localhost:8080/"
        },
        "id": "3PrWVQ3r7SaF",
        "outputId": "704797a9-1686-423e-9852-597e40b0771a"
      },
      "execution_count": null,
      "outputs": [
        {
          "output_type": "execute_result",
          "data": {
            "text/plain": [
              "array(['Pink', 'Gray', 'Sapphire', 'Purple', 'Coral', 'Olive', 'Navy',\n",
              "       'Maroon', 'Teal', 'Cyan', 'Orange', 'Black', 'Tan', 'Red', 'Blue',\n",
              "       'Brown', 'Turquoise', 'Indigo', 'Gold', 'Jade', 'Ultramarine',\n",
              "       'Yellow', 'Virdian', 'Violet', 'Green', 'Aquamarine', 'Magenta',\n",
              "       'Silver', 'Bronze', 'Lime'], dtype=object)"
            ]
          },
          "metadata": {},
          "execution_count": 5
        }
      ]
    },
    {
      "cell_type": "code",
      "source": [
        "df.head(1)"
      ],
      "metadata": {
        "colab": {
          "base_uri": "https://localhost:8080/",
          "height": 211
        },
        "id": "WITGHYtz790m",
        "outputId": "136729ac-4b36-4dc4-e483-bd9fb3a0e013"
      },
      "execution_count": null,
      "outputs": [
        {
          "output_type": "execute_result",
          "data": {
            "text/plain": [
              "  Color  Click Count: Day 1  View Count: Day 1  Click Count: Day 2  \\\n",
              "0  Pink                  21                100                  20   \n",
              "\n",
              "   View Count: Day 2  Click Count: Day 3  View Count: Day 3  \\\n",
              "0                100                  14                100   \n",
              "\n",
              "   Click Count: Day 4  View Count: Day 4  Click Count: Day 5  ...  \\\n",
              "0                  30                100                  12  ...   \n",
              "\n",
              "   Click Count: Day 16  View Count: Day 16  Click Count: Day 17  \\\n",
              "0                   23                 100                   15   \n",
              "\n",
              "   View Count: Day 17  Click Count: Day 18  View Count: Day 18  \\\n",
              "0                 100                   22                 100   \n",
              "\n",
              "   Click Count: Day 19  View Count: Day 19  Click Count: Day 20  \\\n",
              "0                   19                 100                   20   \n",
              "\n",
              "   View Count: Day 20  \n",
              "0                 100  \n",
              "\n",
              "[1 rows x 41 columns]"
            ],
            "text/html": [
              "\n",
              "  <div id=\"df-7c5e8599-4c1b-4fe8-ad84-3f95e104455a\" class=\"colab-df-container\">\n",
              "    <div>\n",
              "<style scoped>\n",
              "    .dataframe tbody tr th:only-of-type {\n",
              "        vertical-align: middle;\n",
              "    }\n",
              "\n",
              "    .dataframe tbody tr th {\n",
              "        vertical-align: top;\n",
              "    }\n",
              "\n",
              "    .dataframe thead th {\n",
              "        text-align: right;\n",
              "    }\n",
              "</style>\n",
              "<table border=\"1\" class=\"dataframe\">\n",
              "  <thead>\n",
              "    <tr style=\"text-align: right;\">\n",
              "      <th></th>\n",
              "      <th>Color</th>\n",
              "      <th>Click Count: Day 1</th>\n",
              "      <th>View Count: Day 1</th>\n",
              "      <th>Click Count: Day 2</th>\n",
              "      <th>View Count: Day 2</th>\n",
              "      <th>Click Count: Day 3</th>\n",
              "      <th>View Count: Day 3</th>\n",
              "      <th>Click Count: Day 4</th>\n",
              "      <th>View Count: Day 4</th>\n",
              "      <th>Click Count: Day 5</th>\n",
              "      <th>...</th>\n",
              "      <th>Click Count: Day 16</th>\n",
              "      <th>View Count: Day 16</th>\n",
              "      <th>Click Count: Day 17</th>\n",
              "      <th>View Count: Day 17</th>\n",
              "      <th>Click Count: Day 18</th>\n",
              "      <th>View Count: Day 18</th>\n",
              "      <th>Click Count: Day 19</th>\n",
              "      <th>View Count: Day 19</th>\n",
              "      <th>Click Count: Day 20</th>\n",
              "      <th>View Count: Day 20</th>\n",
              "    </tr>\n",
              "  </thead>\n",
              "  <tbody>\n",
              "    <tr>\n",
              "      <th>0</th>\n",
              "      <td>Pink</td>\n",
              "      <td>21</td>\n",
              "      <td>100</td>\n",
              "      <td>20</td>\n",
              "      <td>100</td>\n",
              "      <td>14</td>\n",
              "      <td>100</td>\n",
              "      <td>30</td>\n",
              "      <td>100</td>\n",
              "      <td>12</td>\n",
              "      <td>...</td>\n",
              "      <td>23</td>\n",
              "      <td>100</td>\n",
              "      <td>15</td>\n",
              "      <td>100</td>\n",
              "      <td>22</td>\n",
              "      <td>100</td>\n",
              "      <td>19</td>\n",
              "      <td>100</td>\n",
              "      <td>20</td>\n",
              "      <td>100</td>\n",
              "    </tr>\n",
              "  </tbody>\n",
              "</table>\n",
              "<p>1 rows × 41 columns</p>\n",
              "</div>\n",
              "    <div class=\"colab-df-buttons\">\n",
              "\n",
              "  <div class=\"colab-df-container\">\n",
              "    <button class=\"colab-df-convert\" onclick=\"convertToInteractive('df-7c5e8599-4c1b-4fe8-ad84-3f95e104455a')\"\n",
              "            title=\"Convert this dataframe to an interactive table.\"\n",
              "            style=\"display:none;\">\n",
              "\n",
              "  <svg xmlns=\"http://www.w3.org/2000/svg\" height=\"24px\" viewBox=\"0 -960 960 960\">\n",
              "    <path d=\"M120-120v-720h720v720H120Zm60-500h600v-160H180v160Zm220 220h160v-160H400v160Zm0 220h160v-160H400v160ZM180-400h160v-160H180v160Zm440 0h160v-160H620v160ZM180-180h160v-160H180v160Zm440 0h160v-160H620v160Z\"/>\n",
              "  </svg>\n",
              "    </button>\n",
              "\n",
              "  <style>\n",
              "    .colab-df-container {\n",
              "      display:flex;\n",
              "      gap: 12px;\n",
              "    }\n",
              "\n",
              "    .colab-df-convert {\n",
              "      background-color: #E8F0FE;\n",
              "      border: none;\n",
              "      border-radius: 50%;\n",
              "      cursor: pointer;\n",
              "      display: none;\n",
              "      fill: #1967D2;\n",
              "      height: 32px;\n",
              "      padding: 0 0 0 0;\n",
              "      width: 32px;\n",
              "    }\n",
              "\n",
              "    .colab-df-convert:hover {\n",
              "      background-color: #E2EBFA;\n",
              "      box-shadow: 0px 1px 2px rgba(60, 64, 67, 0.3), 0px 1px 3px 1px rgba(60, 64, 67, 0.15);\n",
              "      fill: #174EA6;\n",
              "    }\n",
              "\n",
              "    .colab-df-buttons div {\n",
              "      margin-bottom: 4px;\n",
              "    }\n",
              "\n",
              "    [theme=dark] .colab-df-convert {\n",
              "      background-color: #3B4455;\n",
              "      fill: #D2E3FC;\n",
              "    }\n",
              "\n",
              "    [theme=dark] .colab-df-convert:hover {\n",
              "      background-color: #434B5C;\n",
              "      box-shadow: 0px 1px 3px 1px rgba(0, 0, 0, 0.15);\n",
              "      filter: drop-shadow(0px 1px 2px rgba(0, 0, 0, 0.3));\n",
              "      fill: #FFFFFF;\n",
              "    }\n",
              "  </style>\n",
              "\n",
              "    <script>\n",
              "      const buttonEl =\n",
              "        document.querySelector('#df-7c5e8599-4c1b-4fe8-ad84-3f95e104455a button.colab-df-convert');\n",
              "      buttonEl.style.display =\n",
              "        google.colab.kernel.accessAllowed ? 'block' : 'none';\n",
              "\n",
              "      async function convertToInteractive(key) {\n",
              "        const element = document.querySelector('#df-7c5e8599-4c1b-4fe8-ad84-3f95e104455a');\n",
              "        const dataTable =\n",
              "          await google.colab.kernel.invokeFunction('convertToInteractive',\n",
              "                                                    [key], {});\n",
              "        if (!dataTable) return;\n",
              "\n",
              "        const docLinkHtml = 'Like what you see? Visit the ' +\n",
              "          '<a target=\"_blank\" href=https://colab.research.google.com/notebooks/data_table.ipynb>data table notebook</a>'\n",
              "          + ' to learn more about interactive tables.';\n",
              "        element.innerHTML = '';\n",
              "        dataTable['output_type'] = 'display_data';\n",
              "        await google.colab.output.renderOutput(dataTable, element);\n",
              "        const docLink = document.createElement('div');\n",
              "        docLink.innerHTML = docLinkHtml;\n",
              "        element.appendChild(docLink);\n",
              "      }\n",
              "    </script>\n",
              "  </div>\n",
              "\n",
              "\n",
              "    </div>\n",
              "  </div>\n"
            ],
            "application/vnd.google.colaboratory.intrinsic+json": {
              "type": "dataframe",
              "variable_name": "df"
            }
          },
          "metadata": {},
          "execution_count": 7
        },
        {
          "output_type": "stream",
          "name": "stdout",
          "text": [
            "Warning: Total number of columns (41) exceeds max_columns (20) limiting to first (20) columns.\n",
            "Warning: Total number of columns (41) exceeds max_columns (20) limiting to first (20) columns.\n"
          ]
        }
      ]
    },
    {
      "cell_type": "markdown",
      "source": [
        "Looks like we might as well delete `View Count: Day #` column"
      ],
      "metadata": {
        "id": "PPvMPbI0_srT"
      }
    },
    {
      "cell_type": "code",
      "source": [
        "selected_columns = ['Color', 'Click Count: Day 1', 'View Count: Day 1']\n",
        "print(df[selected_columns].describe())"
      ],
      "metadata": {
        "colab": {
          "base_uri": "https://localhost:8080/"
        },
        "id": "ChGS-Fi07ncm",
        "outputId": "24898f19-c815-4f50-86f6-30e59bd652f8"
      },
      "execution_count": null,
      "outputs": [
        {
          "output_type": "stream",
          "name": "stdout",
          "text": [
            "       Click Count: Day 1  View Count: Day 1\n",
            "count           30.000000               30.0\n",
            "mean            23.533333              100.0\n",
            "std              7.454382                0.0\n",
            "min             12.000000              100.0\n",
            "25%             19.250000              100.0\n",
            "50%             24.000000              100.0\n",
            "75%             26.750000              100.0\n",
            "max             49.000000              100.0\n"
          ]
        }
      ]
    },
    {
      "cell_type": "markdown",
      "source": [
        "The values in the Click Count: Day 1 column range from 12 to 49 clicks. Meanwhile, the minimum and maximum values in View Count: Day 1 are both equal to 100 views (This was expected). Also, we delete the redundant `View Count: Day #` column"
      ],
      "metadata": {
        "id": "rmp1LEoZ9Zo1"
      }
    },
    {
      "cell_type": "code",
      "source": [
        "view_columns = [column for column in df.columns if 'View' in column]\n",
        "assert np.all(df[view_columns].values == 100)"
      ],
      "metadata": {
        "id": "LlDeoUAO8FVT"
      },
      "execution_count": null,
      "outputs": []
    },
    {
      "cell_type": "code",
      "source": [
        "df.drop(columns=view_columns, inplace=True)\n",
        "\n",
        "print(df.columns)"
      ],
      "metadata": {
        "colab": {
          "base_uri": "https://localhost:8080/"
        },
        "id": "d30wk7Jm_emf",
        "outputId": "6c965472-417f-4c82-8a5a-bfe06bfcc83b"
      },
      "execution_count": null,
      "outputs": [
        {
          "output_type": "stream",
          "name": "stdout",
          "text": [
            "Index(['Color', 'Click Count: Day 1', 'Click Count: Day 2',\n",
            "       'Click Count: Day 3', 'Click Count: Day 4', 'Click Count: Day 5',\n",
            "       'Click Count: Day 6', 'Click Count: Day 7', 'Click Count: Day 8',\n",
            "       'Click Count: Day 9', 'Click Count: Day 10', 'Click Count: Day 11',\n",
            "       'Click Count: Day 12', 'Click Count: Day 13', 'Click Count: Day 14',\n",
            "       'Click Count: Day 15', 'Click Count: Day 16', 'Click Count: Day 17',\n",
            "       'Click Count: Day 18', 'Click Count: Day 19', 'Click Count: Day 20'],\n",
            "      dtype='object')\n"
          ]
        }
      ]
    },
    {
      "cell_type": "code",
      "source": [
        "df.set_index('Color', inplace=True)\n",
        "print(df.T.Blue.describe())"
      ],
      "metadata": {
        "colab": {
          "base_uri": "https://localhost:8080/"
        },
        "id": "sGvbLthWAt07",
        "outputId": "e805f323-977a-414d-c76b-0ea7312d8239"
      },
      "execution_count": null,
      "outputs": [
        {
          "output_type": "stream",
          "name": "stdout",
          "text": [
            "count    20.000000\n",
            "mean     28.350000\n",
            "std       5.499043\n",
            "min      18.000000\n",
            "25%      25.750000\n",
            "50%      27.500000\n",
            "75%      30.250000\n",
            "max      42.000000\n",
            "Name: Blue, dtype: float64\n"
          ]
        }
      ]
    },
    {
      "cell_type": "markdown",
      "source": [
        "We can see the min, max and mean % for the blue color. Now lets see how it compares with other colors."
      ],
      "metadata": {
        "id": "nF88b55mBkw0"
      }
    },
    {
      "cell_type": "markdown",
      "source": [
        "##  Computing p-values from differences in means"
      ],
      "metadata": {
        "id": "FdkzAwJxB6uJ"
      }
    },
    {
      "cell_type": "code",
      "source": [
        "df_not_blue = df.T.drop(columns='Blue')\n",
        "df_not_blue.head(2)"
      ],
      "metadata": {
        "colab": {
          "base_uri": "https://localhost:8080/",
          "height": 198
        },
        "id": "EdazEQgVB7M6",
        "outputId": "39448046-3860-48ba-8741-e2564684fd35"
      },
      "execution_count": null,
      "outputs": [
        {
          "output_type": "execute_result",
          "data": {
            "text/plain": [
              "Color               Pink  Gray  Sapphire  Purple  Coral  Olive  Navy  Maroon  \\\n",
              "Click Count: Day 1    21    27        30      26     26     26    38      21   \n",
              "Click Count: Day 2    20    27        32      21     24     19    29      29   \n",
              "\n",
              "Color               Teal  Cyan  ...  Ultramarine  Yellow  Virdian  Violet  \\\n",
              "Click Count: Day 1    25    24  ...           49      14       27      15   \n",
              "Click Count: Day 2    25    22  ...           41      24       23      22   \n",
              "\n",
              "Color               Green  Aquamarine  Magenta  Silver  Bronze  Lime  \n",
              "Click Count: Day 1     14          24       18      26      19    20  \n",
              "Click Count: Day 2     25          28       21      24      19    19  \n",
              "\n",
              "[2 rows x 29 columns]"
            ],
            "text/html": [
              "\n",
              "  <div id=\"df-9a174ec4-1771-4480-80a1-0d83d45ab783\" class=\"colab-df-container\">\n",
              "    <div>\n",
              "<style scoped>\n",
              "    .dataframe tbody tr th:only-of-type {\n",
              "        vertical-align: middle;\n",
              "    }\n",
              "\n",
              "    .dataframe tbody tr th {\n",
              "        vertical-align: top;\n",
              "    }\n",
              "\n",
              "    .dataframe thead th {\n",
              "        text-align: right;\n",
              "    }\n",
              "</style>\n",
              "<table border=\"1\" class=\"dataframe\">\n",
              "  <thead>\n",
              "    <tr style=\"text-align: right;\">\n",
              "      <th>Color</th>\n",
              "      <th>Pink</th>\n",
              "      <th>Gray</th>\n",
              "      <th>Sapphire</th>\n",
              "      <th>Purple</th>\n",
              "      <th>Coral</th>\n",
              "      <th>Olive</th>\n",
              "      <th>Navy</th>\n",
              "      <th>Maroon</th>\n",
              "      <th>Teal</th>\n",
              "      <th>Cyan</th>\n",
              "      <th>...</th>\n",
              "      <th>Ultramarine</th>\n",
              "      <th>Yellow</th>\n",
              "      <th>Virdian</th>\n",
              "      <th>Violet</th>\n",
              "      <th>Green</th>\n",
              "      <th>Aquamarine</th>\n",
              "      <th>Magenta</th>\n",
              "      <th>Silver</th>\n",
              "      <th>Bronze</th>\n",
              "      <th>Lime</th>\n",
              "    </tr>\n",
              "  </thead>\n",
              "  <tbody>\n",
              "    <tr>\n",
              "      <th>Click Count: Day 1</th>\n",
              "      <td>21</td>\n",
              "      <td>27</td>\n",
              "      <td>30</td>\n",
              "      <td>26</td>\n",
              "      <td>26</td>\n",
              "      <td>26</td>\n",
              "      <td>38</td>\n",
              "      <td>21</td>\n",
              "      <td>25</td>\n",
              "      <td>24</td>\n",
              "      <td>...</td>\n",
              "      <td>49</td>\n",
              "      <td>14</td>\n",
              "      <td>27</td>\n",
              "      <td>15</td>\n",
              "      <td>14</td>\n",
              "      <td>24</td>\n",
              "      <td>18</td>\n",
              "      <td>26</td>\n",
              "      <td>19</td>\n",
              "      <td>20</td>\n",
              "    </tr>\n",
              "    <tr>\n",
              "      <th>Click Count: Day 2</th>\n",
              "      <td>20</td>\n",
              "      <td>27</td>\n",
              "      <td>32</td>\n",
              "      <td>21</td>\n",
              "      <td>24</td>\n",
              "      <td>19</td>\n",
              "      <td>29</td>\n",
              "      <td>29</td>\n",
              "      <td>25</td>\n",
              "      <td>22</td>\n",
              "      <td>...</td>\n",
              "      <td>41</td>\n",
              "      <td>24</td>\n",
              "      <td>23</td>\n",
              "      <td>22</td>\n",
              "      <td>25</td>\n",
              "      <td>28</td>\n",
              "      <td>21</td>\n",
              "      <td>24</td>\n",
              "      <td>19</td>\n",
              "      <td>19</td>\n",
              "    </tr>\n",
              "  </tbody>\n",
              "</table>\n",
              "<p>2 rows × 29 columns</p>\n",
              "</div>\n",
              "    <div class=\"colab-df-buttons\">\n",
              "\n",
              "  <div class=\"colab-df-container\">\n",
              "    <button class=\"colab-df-convert\" onclick=\"convertToInteractive('df-9a174ec4-1771-4480-80a1-0d83d45ab783')\"\n",
              "            title=\"Convert this dataframe to an interactive table.\"\n",
              "            style=\"display:none;\">\n",
              "\n",
              "  <svg xmlns=\"http://www.w3.org/2000/svg\" height=\"24px\" viewBox=\"0 -960 960 960\">\n",
              "    <path d=\"M120-120v-720h720v720H120Zm60-500h600v-160H180v160Zm220 220h160v-160H400v160Zm0 220h160v-160H400v160ZM180-400h160v-160H180v160Zm440 0h160v-160H620v160ZM180-180h160v-160H180v160Zm440 0h160v-160H620v160Z\"/>\n",
              "  </svg>\n",
              "    </button>\n",
              "\n",
              "  <style>\n",
              "    .colab-df-container {\n",
              "      display:flex;\n",
              "      gap: 12px;\n",
              "    }\n",
              "\n",
              "    .colab-df-convert {\n",
              "      background-color: #E8F0FE;\n",
              "      border: none;\n",
              "      border-radius: 50%;\n",
              "      cursor: pointer;\n",
              "      display: none;\n",
              "      fill: #1967D2;\n",
              "      height: 32px;\n",
              "      padding: 0 0 0 0;\n",
              "      width: 32px;\n",
              "    }\n",
              "\n",
              "    .colab-df-convert:hover {\n",
              "      background-color: #E2EBFA;\n",
              "      box-shadow: 0px 1px 2px rgba(60, 64, 67, 0.3), 0px 1px 3px 1px rgba(60, 64, 67, 0.15);\n",
              "      fill: #174EA6;\n",
              "    }\n",
              "\n",
              "    .colab-df-buttons div {\n",
              "      margin-bottom: 4px;\n",
              "    }\n",
              "\n",
              "    [theme=dark] .colab-df-convert {\n",
              "      background-color: #3B4455;\n",
              "      fill: #D2E3FC;\n",
              "    }\n",
              "\n",
              "    [theme=dark] .colab-df-convert:hover {\n",
              "      background-color: #434B5C;\n",
              "      box-shadow: 0px 1px 3px 1px rgba(0, 0, 0, 0.15);\n",
              "      filter: drop-shadow(0px 1px 2px rgba(0, 0, 0, 0.3));\n",
              "      fill: #FFFFFF;\n",
              "    }\n",
              "  </style>\n",
              "\n",
              "    <script>\n",
              "      const buttonEl =\n",
              "        document.querySelector('#df-9a174ec4-1771-4480-80a1-0d83d45ab783 button.colab-df-convert');\n",
              "      buttonEl.style.display =\n",
              "        google.colab.kernel.accessAllowed ? 'block' : 'none';\n",
              "\n",
              "      async function convertToInteractive(key) {\n",
              "        const element = document.querySelector('#df-9a174ec4-1771-4480-80a1-0d83d45ab783');\n",
              "        const dataTable =\n",
              "          await google.colab.kernel.invokeFunction('convertToInteractive',\n",
              "                                                    [key], {});\n",
              "        if (!dataTable) return;\n",
              "\n",
              "        const docLinkHtml = 'Like what you see? Visit the ' +\n",
              "          '<a target=\"_blank\" href=https://colab.research.google.com/notebooks/data_table.ipynb>data table notebook</a>'\n",
              "          + ' to learn more about interactive tables.';\n",
              "        element.innerHTML = '';\n",
              "        dataTable['output_type'] = 'display_data';\n",
              "        await google.colab.output.renderOutput(dataTable, element);\n",
              "        const docLink = document.createElement('div');\n",
              "        docLink.innerHTML = docLinkHtml;\n",
              "        element.appendChild(docLink);\n",
              "      }\n",
              "    </script>\n",
              "  </div>\n",
              "\n",
              "\n",
              "<div id=\"df-3f58e150-3b72-4b0c-a891-0241bcbad1fc\">\n",
              "  <button class=\"colab-df-quickchart\" onclick=\"quickchart('df-3f58e150-3b72-4b0c-a891-0241bcbad1fc')\"\n",
              "            title=\"Suggest charts\"\n",
              "            style=\"display:none;\">\n",
              "\n",
              "<svg xmlns=\"http://www.w3.org/2000/svg\" height=\"24px\"viewBox=\"0 0 24 24\"\n",
              "     width=\"24px\">\n",
              "    <g>\n",
              "        <path d=\"M19 3H5c-1.1 0-2 .9-2 2v14c0 1.1.9 2 2 2h14c1.1 0 2-.9 2-2V5c0-1.1-.9-2-2-2zM9 17H7v-7h2v7zm4 0h-2V7h2v10zm4 0h-2v-4h2v4z\"/>\n",
              "    </g>\n",
              "</svg>\n",
              "  </button>\n",
              "\n",
              "<style>\n",
              "  .colab-df-quickchart {\n",
              "      --bg-color: #E8F0FE;\n",
              "      --fill-color: #1967D2;\n",
              "      --hover-bg-color: #E2EBFA;\n",
              "      --hover-fill-color: #174EA6;\n",
              "      --disabled-fill-color: #AAA;\n",
              "      --disabled-bg-color: #DDD;\n",
              "  }\n",
              "\n",
              "  [theme=dark] .colab-df-quickchart {\n",
              "      --bg-color: #3B4455;\n",
              "      --fill-color: #D2E3FC;\n",
              "      --hover-bg-color: #434B5C;\n",
              "      --hover-fill-color: #FFFFFF;\n",
              "      --disabled-bg-color: #3B4455;\n",
              "      --disabled-fill-color: #666;\n",
              "  }\n",
              "\n",
              "  .colab-df-quickchart {\n",
              "    background-color: var(--bg-color);\n",
              "    border: none;\n",
              "    border-radius: 50%;\n",
              "    cursor: pointer;\n",
              "    display: none;\n",
              "    fill: var(--fill-color);\n",
              "    height: 32px;\n",
              "    padding: 0;\n",
              "    width: 32px;\n",
              "  }\n",
              "\n",
              "  .colab-df-quickchart:hover {\n",
              "    background-color: var(--hover-bg-color);\n",
              "    box-shadow: 0 1px 2px rgba(60, 64, 67, 0.3), 0 1px 3px 1px rgba(60, 64, 67, 0.15);\n",
              "    fill: var(--button-hover-fill-color);\n",
              "  }\n",
              "\n",
              "  .colab-df-quickchart-complete:disabled,\n",
              "  .colab-df-quickchart-complete:disabled:hover {\n",
              "    background-color: var(--disabled-bg-color);\n",
              "    fill: var(--disabled-fill-color);\n",
              "    box-shadow: none;\n",
              "  }\n",
              "\n",
              "  .colab-df-spinner {\n",
              "    border: 2px solid var(--fill-color);\n",
              "    border-color: transparent;\n",
              "    border-bottom-color: var(--fill-color);\n",
              "    animation:\n",
              "      spin 1s steps(1) infinite;\n",
              "  }\n",
              "\n",
              "  @keyframes spin {\n",
              "    0% {\n",
              "      border-color: transparent;\n",
              "      border-bottom-color: var(--fill-color);\n",
              "      border-left-color: var(--fill-color);\n",
              "    }\n",
              "    20% {\n",
              "      border-color: transparent;\n",
              "      border-left-color: var(--fill-color);\n",
              "      border-top-color: var(--fill-color);\n",
              "    }\n",
              "    30% {\n",
              "      border-color: transparent;\n",
              "      border-left-color: var(--fill-color);\n",
              "      border-top-color: var(--fill-color);\n",
              "      border-right-color: var(--fill-color);\n",
              "    }\n",
              "    40% {\n",
              "      border-color: transparent;\n",
              "      border-right-color: var(--fill-color);\n",
              "      border-top-color: var(--fill-color);\n",
              "    }\n",
              "    60% {\n",
              "      border-color: transparent;\n",
              "      border-right-color: var(--fill-color);\n",
              "    }\n",
              "    80% {\n",
              "      border-color: transparent;\n",
              "      border-right-color: var(--fill-color);\n",
              "      border-bottom-color: var(--fill-color);\n",
              "    }\n",
              "    90% {\n",
              "      border-color: transparent;\n",
              "      border-bottom-color: var(--fill-color);\n",
              "    }\n",
              "  }\n",
              "</style>\n",
              "\n",
              "  <script>\n",
              "    async function quickchart(key) {\n",
              "      const quickchartButtonEl =\n",
              "        document.querySelector('#' + key + ' button');\n",
              "      quickchartButtonEl.disabled = true;  // To prevent multiple clicks.\n",
              "      quickchartButtonEl.classList.add('colab-df-spinner');\n",
              "      try {\n",
              "        const charts = await google.colab.kernel.invokeFunction(\n",
              "            'suggestCharts', [key], {});\n",
              "      } catch (error) {\n",
              "        console.error('Error during call to suggestCharts:', error);\n",
              "      }\n",
              "      quickchartButtonEl.classList.remove('colab-df-spinner');\n",
              "      quickchartButtonEl.classList.add('colab-df-quickchart-complete');\n",
              "    }\n",
              "    (() => {\n",
              "      let quickchartButtonEl =\n",
              "        document.querySelector('#df-3f58e150-3b72-4b0c-a891-0241bcbad1fc button');\n",
              "      quickchartButtonEl.style.display =\n",
              "        google.colab.kernel.accessAllowed ? 'block' : 'none';\n",
              "    })();\n",
              "  </script>\n",
              "</div>\n",
              "\n",
              "    </div>\n",
              "  </div>\n"
            ],
            "application/vnd.google.colaboratory.intrinsic+json": {
              "type": "dataframe",
              "variable_name": "df_not_blue"
            }
          },
          "metadata": {},
          "execution_count": 15
        },
        {
          "output_type": "stream",
          "name": "stdout",
          "text": [
            "Warning: Total number of columns (29) exceeds max_columns (20) limiting to first (20) columns.\n"
          ]
        }
      ]
    },
    {
      "cell_type": "markdown",
      "source": [
        "Our `df_not_blue` table contains the percent clicks for 29 colors. We would like to compare these percentages to our blue percentages. More precisely, we want to know if there exists a color whose mean click rate is statistically different from the mean click rate of blue. How do we compare these means? The sample mean for every color is easily obtainable, but we do not have a population mean. Thus, our best option is to run a permutation test. To run the test, we need to define a reusable permutation test function. The function will take as input two NumPy arrays and return a p-value as its output."
      ],
      "metadata": {
        "id": "5WEetOYaDd_M"
      }
    },
    {
      "cell_type": "code",
      "source": [
        "def permutation_test(data_array_a, data_array_b):\n",
        "    data_mean_a = data_array_a.mean()\n",
        "    data_mean_b = data_array_b.mean()\n",
        "    extreme_mean_diff = abs(data_mean_a - data_mean_b)\n",
        "    total_data = np.hstack([data_array_a, data_array_b])\n",
        "    number_extreme_values = 0.0\n",
        "    for _ in range(30000):\n",
        "        np.random.shuffle(total_data)\n",
        "        sample_a = total_data[:data_array_a.size]\n",
        "        sample_b = total_data[data_array_a.size:]\n",
        "        if abs(sample_a.mean() - sample_b.mean()) >= extreme_mean_diff:\n",
        "            number_extreme_values += 1\n",
        "\n",
        "    p_value = number_extreme_values / 30000\n",
        "    return p_value"
      ],
      "metadata": {
        "id": "xGl6bvSHCa_h"
      },
      "execution_count": null,
      "outputs": []
    },
    {
      "cell_type": "code",
      "source": [
        "np.random.seed(0)\n",
        "blue_clicks = df.T.Blue.values\n",
        "color_to_p_value = {}\n",
        "for color, color_clicks in df_not_blue.items():\n",
        "    p_value = permutation_test(blue_clicks, color_clicks)\n",
        "    color_to_p_value[color] = p_value\n",
        "sorted_colors, sorted_p_values = zip(*sorted(color_to_p_value.items(),\n",
        "                                             key=lambda x: x[1]))\n",
        "plt.figure(figsize=(3, 10))\n",
        "sns.heatmap([[p_value] for p_value in sorted_p_values],\n",
        "            cmap='YlGnBu', annot=True, xticklabels=['p-value'],\n",
        "            yticklabels=sorted_colors)\n",
        "plt.show()"
      ],
      "metadata": {
        "colab": {
          "base_uri": "https://localhost:8080/",
          "height": 830
        },
        "id": "jPXoMlKmH7OQ",
        "outputId": "13d7426a-0f5e-4def-dd46-637c0c3d2cac"
      },
      "execution_count": null,
      "outputs": [
        {
          "output_type": "display_data",
          "data": {
            "text/plain": [
              "<Figure size 300x1000 with 2 Axes>"
            ],
            "image/png": "[encoded data removed]"
          },
          "metadata": {}
        }
      ]
    },
    {
      "cell_type": "markdown",
      "source": [],
      "metadata": {
        "id": "TTwkBzJiJccY"
      }
    },
    {
      "cell_type": "code",
      "source": [
        "mean_black = df_not_blue.Black.mean()\n",
        "print(f\"Mean click-rate of black is {mean_black}\")"
      ],
      "metadata": {
        "colab": {
          "base_uri": "https://localhost:8080/"
        },
        "id": "QHEvp-rCIhM3",
        "outputId": "9554b8ff-8ba0-4a07-e3ce-b90fef83d39d"
      },
      "execution_count": null,
      "outputs": [
        {
          "output_type": "stream",
          "name": "stdout",
          "text": [
            "Mean click-rate of black is 21.6\n"
          ]
        }
      ]
    },
    {
      "cell_type": "markdown",
      "source": [],
      "metadata": {
        "id": "clAfmCkIJxda"
      }
    },
    {
      "cell_type": "code",
      "source": [
        "remaining_colors = df[df.T.mean().values > blue_clicks.mean()].index\n",
        "size = remaining_colors.size\n",
        "print(f\"{size} colors have on average more clicks than Blue.\")\n",
        "print(\"These colors are:\")\n",
        "print(remaining_colors.values)"
      ],
      "metadata": {
        "colab": {
          "base_uri": "https://localhost:8080/"
        },
        "id": "aHeuOw27JdbK",
        "outputId": "1a595cd5-f0f3-43b5-e2e2-6ff910fcb3aa"
      },
      "execution_count": null,
      "outputs": [
        {
          "output_type": "stream",
          "name": "stdout",
          "text": [
            "5 colors have on average more clicks than Blue.\n",
            "These colors are:\n",
            "['Sapphire' 'Navy' 'Teal' 'Ultramarine' 'Aquamarine']\n"
          ]
        }
      ]
    },
    {
      "cell_type": "markdown",
      "source": [],
      "metadata": {
        "id": "RAxjlBY2Jx46"
      }
    },
    {
      "cell_type": "code",
      "source": [
        "for color, p_value in sorted(color_to_p_value.items(), key=lambda x: x[1]):\n",
        "    if color in remaining_colors:\n",
        "        mean = df_not_blue[color].mean()\n",
        "        print(f\"{color} has a p-value of {p_value} and a mean of {mean}\")"
      ],
      "metadata": {
        "colab": {
          "base_uri": "https://localhost:8080/"
        },
        "id": "kio87o0LJo4l",
        "outputId": "b1dca2c2-0e8d-406a-fcf3-92cdaab619f9"
      },
      "execution_count": null,
      "outputs": [
        {
          "output_type": "stream",
          "name": "stdout",
          "text": [
            "Ultramarine has a p-value of 0.0034 and a mean of 34.2\n",
            "Navy has a p-value of 0.5911666666666666 and a mean of 29.3\n",
            "Aquamarine has a p-value of 0.6654666666666667 and a mean of 29.2\n",
            "Sapphire has a p-value of 0.7457666666666667 and a mean of 28.9\n",
            "Teal has a p-value of 0.9745 and a mean of 28.45\n"
          ]
        }
      ]
    },
    {
      "cell_type": "markdown",
      "source": [
        "## Determining statistical significance"
      ],
      "metadata": {
        "id": "XQi4LlU6KVPa"
      }
    },
    {
      "cell_type": "markdown",
      "source": [
        "Four of the colors have large p-values. Only one color has a p-value that’s small. That color is ultramarine: a special shade of blue. Its mean of 34.2 is greater than blue’s mean of 28.35. Ultramarine’s p-value is 0.0034. Is that p-value statistically significant? Well, it’s more than 10 times lower than the standard significance level of 0.05. However, that significance level does not take into account our comparisons between blue and 29 other colors. Each comparison is an experiment testing whether a color differs from blue. If we run enough experiments, then we are guaranteed to encounter a low p-value sooner or later. The best way to correct for this is to execute a `Bonferroni correction` — otherwise, we will fall victim to p-value hacking. To carry out a Bonferroni correction, we lower the significance level to 0.05 / 29."
      ],
      "metadata": {
        "id": "_6FPchK8Kk90"
      }
    },
    {
      "cell_type": "code",
      "source": [
        "significance_level = 0.05 / 29\n",
        "print(f\"Adjusted significance level is {significance_level}\")\n",
        "if color_to_p_value['Ultramarine'] <= significance_level:\n",
        "    print(\"Our p-value is statistically significant\")\n",
        "else:\n",
        "    print(\"Our p-value is not statistically significant\")"
      ],
      "metadata": {
        "colab": {
          "base_uri": "https://localhost:8080/"
        },
        "id": "afP3bfIeKQKF",
        "outputId": "f3d36b34-ba1c-493f-a1a5-384bbf3b9de1"
      },
      "execution_count": null,
      "outputs": [
        {
          "output_type": "stream",
          "name": "stdout",
          "text": [
            "Adjusted significance level is 0.001724137931034483\n",
            "Our p-value is not statistically significant\n"
          ]
        }
      ]
    },
    {
      "cell_type": "markdown",
      "source": [
        "Our p-value is not statistically significant — Raul carried out too many experiments for us to draw a meaningful conclusion. Not all of these experiments were necessary. There is no valid reason to expect that black, brown, or gray would outperform blue. Perhaps if Raul had disregarded some of these colors, our analysis would have been more fruitful. Conceivably, if Raul had simply compared blue to the other five variants of blue, we might have obtained a statistically significant result. Let’s explore the hypothetical situation where Raul instigates five experiments and ultramarine’s p-value remains unchanged."
      ],
      "metadata": {
        "id": "Hr5A0_wJLjc9"
      }
    },
    {
      "cell_type": "code",
      "source": [
        "hypothetical_sig_level = 0.05 / 5\n",
        "print(f\"Hypothetical significance level is {hypothetical_sig_level}\")\n",
        "if color_to_p_value['Ultramarine'] <= hypothetical_sig_level:\n",
        "    print(\"Our hypothetical p-value would have been statistically significant\")\n",
        "else:\n",
        "    print(\"Our hypothetical p-value would not have been statistically significant\")"
      ],
      "metadata": {
        "colab": {
          "base_uri": "https://localhost:8080/"
        },
        "id": "EuUbiR0DKv_a",
        "outputId": "fd35a73c-4dc5-4c0b-a43b-b4e5fbeb1cb2"
      },
      "execution_count": null,
      "outputs": [
        {
          "output_type": "stream",
          "name": "stdout",
          "text": [
            "Hypothetical significance level is 0.01\n",
            "Our hypothetical p-value would have been statistically significant\n"
          ]
        }
      ]
    },
    {
      "cell_type": "markdown",
      "source": [
        "Under these hypothetical conditions, our results would be statistically significant. Sadly, we can’t use the hypothetical conditions to lower our significance level. We have no guarantee that rerunning the experiments would reproduce a p-value of 0.0034. P-values fluctuate, and superfluous experiments increase the chance of untrustworthy fluctuations. Given Raul's high experiment count, we simply cannot draw a statistically significant conclusion.\n",
        "\n",
        "However, all is not lost. Ultramarine still represents a promising substitute for blue. Should Raul carry out that substitution? Perhaps. Let’s consider our two alternative scenarios. In the first scenario, the null hypothesis is true. If that’s the case, then both blue and ultramarine share the same population mean. Under these circumstances, swapping ultramarine for blue will not affect the ad click rate. In the second scenario, the higher ultramarine click rate is actually statistically significant. If that’s the case, then swapping ultramarine for blue will yield more ad clicks. Therefore, Raul has everything to gain and nothing to lose by setting all his ads to ultramarine.\n",
        "\n",
        "From a logical standpoint, Raul should definitely swap blue for ultramarine. But if he carries out the swap, some uncertainty will remain; Raul will never know if ultramarine truly returns more clicks than blue. What if Raul's curiosity gets the best of him? If he really wants an answer, his only choice is to run another experiment. In that experiment, half the displayed ads would be blue and the other displayed ads would be ultramarine. Raul's software would exhibit the advertisements while recording all the clicks and views. Then we could recompute the p-value and compare it to the appropriate significance level, which would remain at 0.05. The Bonferroni correction would not be necessary because only a single experiment would be run. After the p-value comparison, Raul would finally know whether ultramarine outperforms blue."
      ],
      "metadata": {
        "id": "0kabY_i1MKnR"
      }
    },
    {
      "cell_type": "markdown",
      "source": [
        "Raul assumed that analyzing every single color would yield more impactful results, but he was wrong. More data isn’t necessarily better: sometimes more data leads to more uncertainty.\n",
        "\n",
        "However, we can insist that link color should be selected scientifically via a massive analytic test that would supposedly determine the perfect shade of blue, based on all above findings."
      ],
      "metadata": {
        "id": "7VYRA1JpM9rD"
      }
    },
    {
      "cell_type": "markdown",
      "source": [
        "**Reference**: Data Science Bookcamp\n",
        "By Leonard Apeltsin"
      ],
      "metadata": {
        "id": "1U0rq57fhrvf"
      }
    },
    {
      "cell_type": "code",
      "source": [],
      "metadata": {
        "id": "wg0fae9LL8SO"
      },
      "execution_count": null,
      "outputs": []
    }
  ]
}